{
 "cells": [
  {
   "cell_type": "markdown",
   "id": "6b99ae00",
   "metadata": {},
   "source": [
    "# 第二次作业"
   ]
  },
  {
   "cell_type": "markdown",
   "id": "26135310",
   "metadata": {},
   "source": [
    "## 一.补充**梯度下降法**和**牛顿迭代法**的基本原理以及简单推导"
   ]
  },
  {
   "cell_type": "markdown",
   "id": "94c2b2d9",
   "metadata": {},
   "source": [
    "### （1）梯度下降法的基本原理和简单推导"
   ]
  },
  {
   "cell_type": "markdown",
   "id": "9362c920",
   "metadata": {},
   "source": [
    " 求将$n$次方问题转化为优化问题（极值问题）。构造损失$L(x)$，寻找使$L(x)$最小的$x$，使之满足$x^n=y$。"
   ]
  },
  {
   "cell_type": "markdown",
   "id": "0adfbce8",
   "metadata": {},
   "source": [
    "首先定义损失函数$L(x)=\\frac{1}{2}(x^n-y)^2$"
   ]
  },
  {
   "cell_type": "markdown",
   "id": "cd77f2d9",
   "metadata": {},
   "source": [
    "很容易发现，满足$x^n=y$的$x$,一定使$L(x)$最小，因此问题就变成了求使损失函数最小的$x$。"
   ]
  },
  {
   "cell_type": "markdown",
   "id": "4cf3afdd",
   "metadata": {},
   "source": [
    "对于多元函数，梯度是函数值上升最快的方向，故负梯度就是数值下降最快的方向，先找任一点，计算他的负梯度方向，再乘以步长$\\alpha$，在直观上就能理解成，朝函数最小值的方向跨了一步。\n",
    "其中$\\alpha$的值不宜过大，否者容易“跨过了”最小值"
   ]
  },
  {
   "cell_type": "markdown",
   "id": "8175a234",
   "metadata": {},
   "source": [
    "$x_{n+1}=x_n-\\alpha \\bigtriangledown L(x_n)$"
   ]
  },
  {
   "cell_type": "markdown",
   "id": "d5b3711c",
   "metadata": {},
   "source": [
    "对于一元函数同理，该算法可为以下迭代式"
   ]
  },
  {
   "cell_type": "markdown",
   "id": "55348312",
   "metadata": {},
   "source": [
    "$x_{n+1}=x_n-\\alpha L^{'}(x_n)$"
   ]
  },
  {
   "cell_type": "markdown",
   "id": "b36d368e",
   "metadata": {},
   "source": [
    "![jupyter](https://pic3.zhimg.com/v2-e1e6b238b5292251690526c055858fc6_r.jpg)"
   ]
  },
  {
   "cell_type": "markdown",
   "id": "c4925293",
   "metadata": {},
   "source": [
    "### （2）牛顿迭代法的基本原理"
   ]
  },
  {
   "cell_type": "markdown",
   "id": "3fabc1cc",
   "metadata": {},
   "source": [
    "![jupyter](https://pic3.zhimg.com/87977f532b27c2d4aaf293b4b98602bc_r.jpg)"
   ]
  },
  {
   "cell_type": "markdown",
   "id": "eadd4ed7",
   "metadata": {},
   "source": [
    " 将开方问题转化为求函数 $f(x)=x^n-y$ 的根的问题，可用牛顿迭代法，原理一图便知"
   ]
  },
  {
   "cell_type": "markdown",
   "id": "5b7a2243",
   "metadata": {},
   "source": [
    "$x_{n+1}=x_n-\\frac{f(x_n)}{f^{'}(x_n))}$"
   ]
  },
  {
   "cell_type": "markdown",
   "id": "1f301c56",
   "metadata": {},
   "source": [
    "## 二.用**二分法、梯度下降法**和**牛顿迭代法**的计算2022的9次方根。"
   ]
  },
  {
   "cell_type": "markdown",
   "id": "37959641",
   "metadata": {},
   "source": [
    "### 法一：二分法"
   ]
  },
  {
   "cell_type": "code",
   "execution_count": 1,
   "id": "896e9740",
   "metadata": {},
   "outputs": [
    {
     "name": "stdout",
     "output_type": "stream",
     "text": [
      " \n",
      "n代表迭代次数，x1和x2代表初始值，x1小于x2下图为逼近过程\n"
     ]
    },
    {
     "data": {
      "application/vnd.jupyter.widget-view+json": {
       "model_id": "8aee4c9ee4a74269be6bf20326008af7",
       "version_major": 2,
       "version_minor": 0
      },
      "text/plain": [
       "interactive(children=(IntSlider(value=10, description='n', max=20, min=1), Dropdown(description='x1', options=…"
      ]
     },
     "metadata": {},
     "output_type": "display_data"
    }
   ],
   "source": [
    "import numpy as np\n",
    "import matplotlib.pyplot as plt\n",
    "import ipywidgets as ipd\n",
    "def func(x):\n",
    "    return x**9-2022\n",
    "def Main(n,x1,x2):\n",
    "    f1=func(x1)\n",
    "    f2=func(x2)\n",
    "    m=0\n",
    "    x0=0\n",
    "    while m<n:\n",
    "        x0=(x1+x2)/2\n",
    "        f0=func(x0)   \n",
    "        if f1*f0<0:\n",
    "            x2=x0\n",
    "            f2=f0\n",
    "            m=m+1\n",
    "            plt.scatter(x0,x0**9)\n",
    "        elif f2*f0<0:\n",
    "            x1=x0\n",
    "            f1=f0\n",
    "            m=m+1\n",
    "            plt.scatter(x0,x0**9)\n",
    "    plt.plot((0,3),(2022,2022),label=\"标准值 2022\")\n",
    "    plt.ylim(0, 6000)\n",
    "    plt.grid()\n",
    "    print(x0,'是迭代',n,'次后求得的2022的9次方根')\n",
    "print(' ')\n",
    "print('n代表迭代次数，x1和x2代表初始值，x1小于x2下图为逼近过程')\n",
    "ipd.interactive(Main,x1=[0,1,2],x2=[3,4,5], n=(1,20,1))"
   ]
  },
  {
   "cell_type": "markdown",
   "id": "2d76bea3",
   "metadata": {},
   "source": [
    "### 法二：梯度下降法"
   ]
  },
  {
   "cell_type": "code",
   "execution_count": 2,
   "id": "03c8523b",
   "metadata": {},
   "outputs": [
    {
     "name": "stdout",
     "output_type": "stream",
     "text": [
      "如下图，alpha为步长，不宜过大，a为损失函数误差线，m为循环次数\n"
     ]
    },
    {
     "data": {
      "application/vnd.jupyter.widget-view+json": {
       "model_id": "14e053f2d9e846a0839a1b6fda101c1a",
       "version_major": 2,
       "version_minor": 0
      },
      "text/plain": [
       "interactive(children=(Dropdown(description='alpha', options=(1e-10, 1e-09, 1e-08, 1e-07, 1e-06, 1e-05), value=…"
      ]
     },
     "metadata": {},
     "output_type": "display_data"
    }
   ],
   "source": [
    "import numpy as np\n",
    "import matplotlib.pyplot as plt\n",
    "import ipywidgets as ipd\n",
    "def L(x):\n",
    "    return (x**9-2022)**2/2\n",
    "def dL(x):\n",
    "    return 9*x**8*(x**9-2022)\n",
    "def Main1(alpha,a,m):\n",
    "    x=2\n",
    "    Lx=L(x)\n",
    "    n=0;\n",
    "    while Lx>a and n<m:\n",
    "        x=x-alpha*dL(x)\n",
    "        Lx=L(x)\n",
    "        n=n+1\n",
    "        if alpha>1e-8:\n",
    "            print('alpha数值过大，不收敛')\n",
    "            break\n",
    "    plt.scatter(x,0)\n",
    "    print(x,'是2022的9次方根')\n",
    "    print(\" \")\n",
    "    print('图中橙色是理论值，蓝色是逼近值')\n",
    "    plt.xlim(1, 3)\n",
    "    plt.scatter(2.329,0,label=\"标准值 2022\")\n",
    "print('如下图，alpha为步长，不宜过大，a为损失函数误差线，m为循环次数')\n",
    "ipd.interactive(Main1,alpha=[1e-10,1e-9,1e-8,1e-7,1e-6,1e-5],a=[0.01,0.001,0.0001,1e-10],m=(1,10003,10))"
   ]
  },
  {
   "cell_type": "markdown",
   "id": "eb40b5aa",
   "metadata": {},
   "source": [
    " ### 法三：牛顿迭代法\n",
    " "
   ]
  },
  {
   "cell_type": "markdown",
   "id": "74b78fdf",
   "metadata": {},
   "source": [
    "此种方法可视化和上面差不多，就不过多赘述"
   ]
  },
  {
   "cell_type": "code",
   "execution_count": 3,
   "id": "6f25f8bf",
   "metadata": {},
   "outputs": [
    {
     "name": "stdout",
     "output_type": "stream",
     "text": [
      "2.329748371395071 是2022的9次方根\n"
     ]
    }
   ],
   "source": [
    "import numpy as np\n",
    "def L(x):\n",
    "    return x**9-2022\n",
    "def dL(x):\n",
    "    return 9*x**8\n",
    "x=3\n",
    "Lx=L(x)\n",
    "alpha=1\n",
    "while Lx>0.000001:\n",
    "    x=x-L(x)/dL(x)\n",
    "    Lx=L(x)\n",
    "print(x,'是2022的9次方根')"
   ]
  },
  {
   "cell_type": "markdown",
   "id": "e55de000",
   "metadata": {},
   "source": [
    "## 三.讨论**梯度下降法**中，步长$\\alpha$ 的大小对结果的影响"
   ]
  },
  {
   "cell_type": "markdown",
   "id": "6bc002c6",
   "metadata": {},
   "source": [
    "<font color=blue>查阅相关知识，得知步长$\\alpha$在机器学习中被称为“学习率”，函数对其值的选取十分敏感"
   ]
  },
  {
   "cell_type": "markdown",
   "id": "576c3bfd",
   "metadata": {},
   "source": [
    "### Part 1.步长选取过长 / 过短可能造成的影响"
   ]
  },
  {
   "cell_type": "markdown",
   "id": "bd96e493",
   "metadata": {},
   "source": [
    "以简单的二次函数$y=x^2$为例,以$x=10$为起点，求最小值"
   ]
  },
  {
   "cell_type": "code",
   "execution_count": 3,
   "id": "35c2c138",
   "metadata": {},
   "outputs": [
    {
     "name": "stdout",
     "output_type": "stream",
     "text": [
      "如下图，alpha为步长，m为循环次数\n"
     ]
    },
    {
     "data": {
      "application/vnd.jupyter.widget-view+json": {
       "model_id": "707267c261344464b9ab273e98cb53b2",
       "version_major": 2,
       "version_minor": 0
      },
      "text/plain": [
       "interactive(children=(Dropdown(description='alpha', options=(0.01, 0.1, 0.5, 1, 1.1), value=0.01), IntSlider(v…"
      ]
     },
     "metadata": {},
     "output_type": "display_data"
    }
   ],
   "source": [
    "import numpy as np\n",
    "import matplotlib.pyplot as plt\n",
    "import ipywidgets as ipd\n",
    "def L(x):\n",
    "    return x**2\n",
    "def dL(x):\n",
    "    return 2*x\n",
    "def Main1(alpha,m):\n",
    "    x=10\n",
    "    Lx=L(x)\n",
    "    n=0;\n",
    "    while n<m:\n",
    "        x=x-alpha*dL(x)\n",
    "        Lx=L(x)\n",
    "        n=n+1\n",
    "    plt.scatter(x,x**2,color='r')\n",
    "    print(x,'是此时的x')\n",
    "    print(\" \")\n",
    "    print('图中红色是经过m次循环后x的值，蓝色是函数y=x^2')\n",
    "    plt.xlim(-20, 20)\n",
    "    plt.ylim(0, 400)\n",
    "    p=np.linspace(-20,20,240)\n",
    "    q=p*p\n",
    "    plt.plot(p,q,label='y=x^2')\n",
    "print('如下图，alpha为步长，m为循环次数')\n",
    "ipd.interactive(Main1,alpha=[0.01,0.1,0.5,1,1.1],m=(0,30,1))"
   ]
  },
  {
   "cell_type": "markdown",
   "id": "44d4b3d9",
   "metadata": {},
   "source": [
    "正如上面的交互式程序，可以观察到，$\\alpha $ 的值不宜过大也不宜过小"
   ]
  },
  {
   "cell_type": "markdown",
   "id": "dc5c380c",
   "metadata": {},
   "source": [
    "1.当$\\alpha$=1.1时，通过梯度下降法计算得到的值是发散的，循环30次后，$x=2373$"
   ]
  },
  {
   "cell_type": "markdown",
   "id": "6a7146a6",
   "metadata": {},
   "source": [
    "2.当$\\alpha$=1时，通过梯度下降法计算得到的值是发散的，无论循环多少次 $x=10/-10$"
   ]
  },
  {
   "cell_type": "markdown",
   "id": "c546d309",
   "metadata": {},
   "source": [
    "3.当$\\alpha$=0.5时，通过梯度下降法计算得到的值为0，由于运气比较好，一次便收敛到 $x=0$"
   ]
  },
  {
   "cell_type": "markdown",
   "id": "8d2d6fe0",
   "metadata": {},
   "source": [
    "4.当$\\alpha$=0.1时，通过梯度下降法循环30次得到的值为0.01，可知是收敛的"
   ]
  },
  {
   "cell_type": "markdown",
   "id": "75f2e5b4",
   "metadata": {},
   "source": [
    "5.当$\\alpha$=0.01时，通过梯度下降法循环30次得到的值为5.4，有收敛的趋势，但速度很慢"
   ]
  },
  {
   "cell_type": "markdown",
   "id": "c179fc93",
   "metadata": {},
   "source": [
    "<font color=red>**我们有以下结论：$\\alpha$过大，容易不收敛；$\\alpha$过小，收敛速度过慢；且$\\alpha$的洽当值与x有关**"
   ]
  },
  {
   "cell_type": "markdown",
   "id": "277aa6dd",
   "metadata": {},
   "source": [
    "<font color=blue >计算机算力那么强，那我们选择较小的步长，即使计算次数较多，但总能收敛，但是否是这样子呢？"
   ]
  },
  {
   "cell_type": "markdown",
   "id": "ed8bbff4",
   "metadata": {},
   "source": [
    "### Part 2.如果函数有多个极小值点，步长无论过大小都会被困在其中"
   ]
  },
  {
   "cell_type": "code",
   "execution_count": 4,
   "id": "7fa61ca4",
   "metadata": {},
   "outputs": [
    {
     "name": "stdout",
     "output_type": "stream",
     "text": [
      "如下图，alpha为步长，m为循环次数，我们的目标是15-20之间的那个最小值\n"
     ]
    },
    {
     "data": {
      "application/vnd.jupyter.widget-view+json": {
       "model_id": "208199d337a644c4afcb1bd3bdfa1995",
       "version_major": 2,
       "version_minor": 0
      },
      "text/plain": [
       "interactive(children=(Dropdown(description='alpha', options=(0.01, 0.1, 1), value=0.01), IntSlider(value=50, d…"
      ]
     },
     "metadata": {},
     "output_type": "display_data"
    }
   ],
   "source": [
    "import numpy as np\n",
    "import matplotlib.pyplot as plt\n",
    "import ipywidgets as ipd\n",
    "def L(x):\n",
    "    return np.sin(x)*x\n",
    "def dL(x):\n",
    "    return np.sin(x)+np.cos(x)*x\n",
    "def Main1(alpha,m):\n",
    "    x=8.5\n",
    "    Lx=L(x)\n",
    "    n=0;\n",
    "    while n<m:\n",
    "        x=x-alpha*dL(x)\n",
    "        Lx=L(x)\n",
    "        n=n+1\n",
    "    plt.scatter(x,np.sin(x)*x,color='r')\n",
    "    print(x,'是此时的x')\n",
    "    print(\" \")\n",
    "    print('图中红色是经过m次循环后x的值，蓝色是函数y=sin(x)*x')\n",
    "    plt.xlim(0, 20)\n",
    "    plt.ylim(-20,20)\n",
    "    p=np.linspace(-20,20,240)\n",
    "    q=np.sin(p)*p\n",
    "    plt.plot(p,q,label='y=x^2')\n",
    "print('如下图，alpha为步长，m为循环次数，我们的目标是15-20之间的那个最小值')\n",
    "ipd.interactive(Main1,alpha=[0.01,0.1,1],m=(0,100,1))"
   ]
  },
  {
   "cell_type": "markdown",
   "id": "f89a2a86",
   "metadata": {},
   "source": [
    "## 四.参考视频"
   ]
  },
  {
   "cell_type": "markdown",
   "id": "90abe62d",
   "metadata": {},
   "source": [
    "https://www.bilibili.com/video/BV18P4y1j7uH/?spm_id_from=333.999.header_right.history_list.click&vd_source=cb554f457cfd9eb37ab18679a6f0810a"
   ]
  },
  {
   "cell_type": "markdown",
   "id": "81968c62",
   "metadata": {},
   "source": [
    "https://www.bilibili.com/video/BV1a94y1S7PP/?spm_id_from=333.788.top_right_bar_window_history.content.click"
   ]
  }
 ],
 "metadata": {
  "kernelspec": {
   "display_name": "Python 3 (ipykernel)",
   "language": "python",
   "name": "python3"
  },
  "language_info": {
   "codemirror_mode": {
    "name": "ipython",
    "version": 3
   },
   "file_extension": ".py",
   "mimetype": "text/x-python",
   "name": "python",
   "nbconvert_exporter": "python",
   "pygments_lexer": "ipython3",
   "version": "3.9.12"
  }
 },
 "nbformat": 4,
 "nbformat_minor": 5
}
