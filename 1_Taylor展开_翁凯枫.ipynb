{
 "cells": [
  {
   "cell_type": "markdown",
   "id": "ecf47bb6",
   "metadata": {},
   "source": [
    "# 泰勒级数"
   ]
  },
  {
   "cell_type": "markdown",
   "id": "45e3410a",
   "metadata": {},
   "source": [
    "在数学上，对于一个在实数或复数a领域上，以实数作为变量或以复数作为变量的函数，并且是无穷可微的函数$f(x)$，它的**泰勒级数**是一下这种形式的幂级数："
   ]
  },
  {
   "cell_type": "markdown",
   "id": "f7a0cc44",
   "metadata": {},
   "source": [
    "$\\sum_{n=0}^{\\infty} \\frac{f^{(n)}(a)}{n !}(x-a)^{n}$"
   ]
  },
  {
   "cell_type": "markdown",
   "id": "d705a730",
   "metadata": {},
   "source": [
    "这里，$n!$表示$n$的阶乘，而${f^{(n)}(a)}$表示函数$f$在点$a$处的$n$阶导数。如果$a=0$，也可以把这个级数称为**麦克劳林级数**"
   ]
  },
  {
   "cell_type": "markdown",
   "id": "5e321e6d",
   "metadata": {},
   "source": [
    "验证如下等式（自定义函数，分别用for和while实现循环）"
   ]
  },
  {
   "cell_type": "markdown",
   "id": "479fe8c8",
   "metadata": {},
   "source": [
    "$e^{x} =\\sum_{n=0}^{\\infty } \\frac{x^{n} }{n!} $"
   ]
  },
  {
   "cell_type": "markdown",
   "id": "26711ad7",
   "metadata": {},
   "source": [
    "## 1.for  loop（自定阶乘，乘方函数）"
   ]
  },
  {
   "cell_type": "markdown",
   "id": "8429a969",
   "metadata": {},
   "source": [
    "通过验证一系列x**在1000阶展开下**，左右式之差的大小，来证明泰勒展开的正确性"
   ]
  },
  {
   "cell_type": "code",
   "execution_count": 4,
   "id": "ec99cc6b",
   "metadata": {},
   "outputs": [
    {
     "name": "stdout",
     "output_type": "stream",
     "text": [
      "x=1时，右式为2.7182818284590455\n",
      "       左式为2.718281828459045\n",
      "       两式差为=-4.440892098500626e-16\n",
      "x=2时，右式为7.389056098930649\n",
      "       左式为7.38905609893065\n",
      "       两式差为=1.7763568394002505e-15\n",
      "x=3时，右式为20.08553692318766\n",
      "       左式为20.085536923187668\n",
      "       两式差为=7.105427357601002e-15\n",
      "x=4时，右式为54.598150033144265\n",
      "       左式为54.598150033144236\n",
      "       两式差为=-2.842170943040401e-14\n",
      "x=5时，右式为148.41315910257657\n",
      "       左式为148.4131591025766\n",
      "       两式差为=2.842170943040401e-14\n",
      "x=6时，右式为403.4287934927351\n",
      "       左式为403.4287934927351\n",
      "       两式差为=0.0\n",
      "x=7时，右式为1096.6331584284578\n",
      "       左式为1096.6331584284585\n",
      "       两式差为=6.821210263296962e-13\n",
      "x=8时，右式为2980.957987041728\n",
      "       左式为2980.9579870417283\n",
      "       两式差为=4.547473508864641e-13\n",
      "x=9时，右式为8103.083927575384\n",
      "       左式为8103.083927575384\n",
      "       两式差为=0.0\n"
     ]
    }
   ],
   "source": [
    "import math\n",
    "\n",
    "def fac(a): # 阶乘\n",
    "    if a == 0: return 1\n",
    "    if a != 1:\n",
    "        return fac(a - 1) * a\n",
    "    else:\n",
    "        return 1\n",
    "\n",
    "\n",
    "def cheng(i, j): # 乘方\n",
    "    if j==0 : return 1\n",
    "    if j == 1:\n",
    "        return i\n",
    "    else:\n",
    "        return cheng(i, j - 1) * i\n",
    "\n",
    "x=range(1,10)\n",
    "y=range(1,1000)\n",
    "ans=1\n",
    "term=0\n",
    "down=1\n",
    "for i in x:\n",
    "    ans=1\n",
    "    term=0\n",
    "    down=1\n",
    "    for n in y:\n",
    "        ans=ans+term\n",
    "        up=cheng(i,n)\n",
    "        down=fac(n)\n",
    "        term=up/down\n",
    "    print(f\"x={i}时，右式为{ans}\")\n",
    "    print(f\"       左式为{math.exp(i)}\")\n",
    "    print(f\"       两式差为={math.exp(i)-ans}\")"
   ]
  },
  {
   "cell_type": "markdown",
   "id": "e0102ebc",
   "metadata": {},
   "source": [
    "通过以上数值计算，可发现泰勒展开式完美的契合了$e^{x}$原来的值"
   ]
  },
  {
   "cell_type": "markdown",
   "id": "a23e4634",
   "metadata": {},
   "source": [
    "## 2.while  loop（自定阶乘，乘方函数）"
   ]
  },
  {
   "cell_type": "markdown",
   "id": "f56acd85",
   "metadata": {},
   "source": [
    "让用户输入x，进行两端做差，通过while语句判断**两边之差**小于某一个很小的值时，认为他们相等"
   ]
  },
  {
   "cell_type": "code",
   "execution_count": 12,
   "id": "137f0581",
   "metadata": {},
   "outputs": [
    {
     "name": "stdout",
     "output_type": "stream",
     "text": [
      "请输入任意的x\n",
      "3\n",
      "当n=15时，\n",
      "左式=20.085536923187668,\n",
      "右式=20.08546859390609,\n",
      "两式之差=6.832928157862739e-05,\n",
      "故我们可以认为左右式相等\n"
     ]
    }
   ],
   "source": [
    "import math\n",
    "\n",
    "\n",
    "def fac(a): # 阶乘\n",
    "    if a == 0: return 1\n",
    "    if a != 1:\n",
    "        return fac(a - 1) * a\n",
    "    else:\n",
    "        return 1\n",
    "\n",
    "\n",
    "def cheng(i, j): # 乘方\n",
    "    if j==0 : return 1\n",
    "    if j == 1:\n",
    "        return i\n",
    "    else:\n",
    "        return cheng(i, j - 1) * i\n",
    "    \n",
    "print(\"请输入任意的x\")\n",
    "x=int(input())\n",
    "n=1\n",
    "ans=1\n",
    "term=0\n",
    "down=1\n",
    "while abs(math.exp(x)-ans)>0.0001:\n",
    "    ans=ans+term\n",
    "    up=cheng(x,n)\n",
    "    down=fac(n)\n",
    "    term=up/down\n",
    "    n=n+1\n",
    "left=math.exp(x)\n",
    "right=ans\n",
    "print(f\"当n={n}时，\\n左式={left},\\n右式={ans},\\n两式之差={left-right},\\n故我们可以认为左右式相等\")"
   ]
  },
  {
   "cell_type": "markdown",
   "id": "f8172c1e",
   "metadata": {},
   "source": [
    "## 3.自定义求泰勒展开函数"
   ]
  },
  {
   "cell_type": "markdown",
   "id": "bbcb3626",
   "metadata": {},
   "source": [
    "自定函数定义出$e^{x}$的泰勒展开式"
   ]
  },
  {
   "cell_type": "code",
   "execution_count": 13,
   "id": "a26d1cda",
   "metadata": {},
   "outputs": [],
   "source": [
    "# %load myfunction.py\n",
    "import math\n",
    "def my_expx_Taylor(x):\n",
    "    if x < 0 :\n",
    "        print(\"该展开在负数部分不成立！\")\n",
    "        return None\n",
    "\n",
    "    y=range(1,1000)\n",
    "    ans=1\n",
    "    term=0\n",
    "    down=1\n",
    "    for n in y:\n",
    "        ans=ans+term\n",
    "        up=x**n\n",
    "        down=down*n\n",
    "        term=up/down\n",
    "    return ans"
   ]
  },
  {
   "cell_type": "code",
   "execution_count": 14,
   "id": "757eb041",
   "metadata": {},
   "outputs": [
    {
     "name": "stdout",
     "output_type": "stream",
     "text": [
      "请输入任意的x\n",
      "3\n",
      "左式-右式=7.105427357601002e-15\n",
      "在这种情况下，我们认为泰勒展开成立\n"
     ]
    }
   ],
   "source": [
    "print(\"请输入任意的x\")\n",
    "x=int(input())\n",
    "print(f\"左式-右式={math.exp(x)-my_expx_Taylor(x)}\")\n",
    "if (math.exp(x)-my_expx_Taylor(x))<0.0001:\n",
    "    print(\"在这种情况下，我们认为泰勒展开成立\")\n",
    "else:\n",
    "    print(\"由于阶数不够，导致泰勒展开精度不够\")"
   ]
  },
  {
   "cell_type": "markdown",
   "id": "cdf66648",
   "metadata": {},
   "source": [
    "## 4.不足之处"
   ]
  },
  {
   "cell_type": "markdown",
   "id": "2e56ec59",
   "metadata": {},
   "source": [
    "在输入$x$过大的时，会造成泰勒级数精度不够，导致左右式难以相等；但是若加大阶数，会出现计算量过大，无法运行的问题。故本次证明只能局限在有限值域内，无法实现真正的$n\\rightarrow\\infty$。"
   ]
  },
  {
   "cell_type": "code",
   "execution_count": 17,
   "id": "5f71d794",
   "metadata": {},
   "outputs": [
    {
     "data": {
      "application/vnd.jupyter.widget-view+json": {
       "model_id": "b9924663f4cb41eeb7b761b85b212468",
       "version_major": 2,
       "version_minor": 0
      },
      "text/plain": [
       "interactive(children=(Dropdown(description='x', options=(2, 3, 4, 5), value=2), Output()), _dom_classes=('widg…"
      ]
     },
     "metadata": {},
     "output_type": "display_data"
    }
   ],
   "source": [
    "import ipywidgets as a\n",
    "\n",
    "def func(x):\n",
    "    return x**2\n",
    "a.interactive(func, x=[2,3,4,5])"
   ]
  },
  {
   "cell_type": "code",
   "execution_count": null,
   "id": "99efd10d",
   "metadata": {},
   "outputs": [],
   "source": []
  }
 ],
 "metadata": {
  "kernelspec": {
   "display_name": "Python 3 (ipykernel)",
   "language": "python",
   "name": "python3"
  },
  "language_info": {
   "codemirror_mode": {
    "name": "ipython",
    "version": 3
   },
   "file_extension": ".py",
   "mimetype": "text/x-python",
   "name": "python",
   "nbconvert_exporter": "python",
   "pygments_lexer": "ipython3",
   "version": "3.9.12"
  }
 },
 "nbformat": 4,
 "nbformat_minor": 5
}
